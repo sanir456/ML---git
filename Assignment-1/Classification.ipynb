{
 "cells": [
  {
   "cell_type": "markdown",
   "id": "disciplinary-theta",
   "metadata": {},
   "source": [
    "# 1. Import Librarys"
   ]
  },
  {
   "cell_type": "code",
   "execution_count": 40,
   "id": "characteristic-formation",
   "metadata": {},
   "outputs": [],
   "source": [
    "import numpy as np\n",
    "import pandas as pd\n",
    "import matplotlib.pyplot as plt\n",
    "from sklearn.model_selection import train_test_split"
   ]
  },
  {
   "cell_type": "markdown",
   "id": "special-slope",
   "metadata": {},
   "source": [
    "# 2. Plot feature distribution"
   ]
  },
  {
   "cell_type": "markdown",
   "id": "verified-attachment",
   "metadata": {},
   "source": [
    "### 2.1 Read CSV file"
   ]
  },
  {
   "cell_type": "code",
   "execution_count": 41,
   "id": "suited-antique",
   "metadata": {},
   "outputs": [
    {
     "data": {
      "text/html": [
       "<div>\n",
       "<style scoped>\n",
       "    .dataframe tbody tr th:only-of-type {\n",
       "        vertical-align: middle;\n",
       "    }\n",
       "\n",
       "    .dataframe tbody tr th {\n",
       "        vertical-align: top;\n",
       "    }\n",
       "\n",
       "    .dataframe thead th {\n",
       "        text-align: right;\n",
       "    }\n",
       "</style>\n",
       "<table border=\"1\" class=\"dataframe\">\n",
       "  <thead>\n",
       "    <tr style=\"text-align: right;\">\n",
       "      <th></th>\n",
       "      <th>variance</th>\n",
       "      <th>skewness</th>\n",
       "      <th>curtosis</th>\n",
       "      <th>entropy</th>\n",
       "      <th>target</th>\n",
       "    </tr>\n",
       "  </thead>\n",
       "  <tbody>\n",
       "    <tr>\n",
       "      <th>0</th>\n",
       "      <td>NaN</td>\n",
       "      <td>8.28950</td>\n",
       "      <td>-1.9213</td>\n",
       "      <td>-3.33320</td>\n",
       "      <td>0</td>\n",
       "    </tr>\n",
       "    <tr>\n",
       "      <th>1</th>\n",
       "      <td>-3.11280</td>\n",
       "      <td>-6.84100</td>\n",
       "      <td>10.7402</td>\n",
       "      <td>-1.01720</td>\n",
       "      <td>1</td>\n",
       "    </tr>\n",
       "    <tr>\n",
       "      <th>2</th>\n",
       "      <td>5.39150</td>\n",
       "      <td>9.99460</td>\n",
       "      <td>-3.8081</td>\n",
       "      <td>-3.36420</td>\n",
       "      <td>0</td>\n",
       "    </tr>\n",
       "    <tr>\n",
       "      <th>3</th>\n",
       "      <td>-1.30000</td>\n",
       "      <td>10.26780</td>\n",
       "      <td>NaN</td>\n",
       "      <td>-5.86380</td>\n",
       "      <td>0</td>\n",
       "    </tr>\n",
       "    <tr>\n",
       "      <th>4</th>\n",
       "      <td>-0.49241</td>\n",
       "      <td>0.89392</td>\n",
       "      <td>-1.6283</td>\n",
       "      <td>-0.56854</td>\n",
       "      <td>1</td>\n",
       "    </tr>\n",
       "  </tbody>\n",
       "</table>\n",
       "</div>"
      ],
      "text/plain": [
       "   variance  skewness  curtosis  entropy  target\n",
       "0       NaN   8.28950   -1.9213 -3.33320       0\n",
       "1  -3.11280  -6.84100   10.7402 -1.01720       1\n",
       "2   5.39150   9.99460   -3.8081 -3.36420       0\n",
       "3  -1.30000  10.26780       NaN -5.86380       0\n",
       "4  -0.49241   0.89392   -1.6283 -0.56854       1"
      ]
     },
     "execution_count": 41,
     "metadata": {},
     "output_type": "execute_result"
    }
   ],
   "source": [
    "main_df = pd.read_csv('bank_auth.csv')\n",
    "main_df.head()"
   ]
  },
  {
   "cell_type": "markdown",
   "id": "recorded-arrival",
   "metadata": {},
   "source": [
    "### 2.2 Plot distribution with handling null value"
   ]
  },
  {
   "cell_type": "code",
   "execution_count": 42,
   "id": "alpha-alias",
   "metadata": {},
   "outputs": [
    {
     "name": "stdout",
     "output_type": "stream",
     "text": [
      "Drop NULL value for variance\n",
      "(626,)\n"
     ]
    },
    {
     "data": {
      "image/png": "[encoded data removed]",
      "text/plain": [
       "<Figure size 432x288 with 1 Axes>"
      ]
     },
     "metadata": {
      "needs_background": "light"
     },
     "output_type": "display_data"
    },
    {
     "name": "stdout",
     "output_type": "stream",
     "text": [
      "Replace NULL value with Mean for variance\n",
      "(762,)\n"
     ]
    },
    {
     "data": {
      "image/png": "[encoded data removed]",
      "text/plain": [
       "<Figure size 432x288 with 1 Axes>"
      ]
     },
     "metadata": {
      "needs_background": "light"
     },
     "output_type": "display_data"
    },
    {
     "name": "stdout",
     "output_type": "stream",
     "text": [
      "Replace NULL value with Median for variance\n",
      "(762,)\n"
     ]
    },
    {
     "data": {
      "image/png": "[encoded data removed]",
      "text/plain": [
       "<Figure size 432x288 with 1 Axes>"
      ]
     },
     "metadata": {
      "needs_background": "light"
     },
     "output_type": "display_data"
    },
    {
     "name": "stdout",
     "output_type": "stream",
     "text": [
      "Drop NULL value for skewness\n",
      "(601,)\n"
     ]
    },
    {
     "data": {
      "image/png": "[encoded data removed]",
      "text/plain": [
       "<Figure size 432x288 with 1 Axes>"
      ]
     },
     "metadata": {
      "needs_background": "light"
     },
     "output_type": "display_data"
    },
    {
     "name": "stdout",
     "output_type": "stream",
     "text": [
      "Replace NULL value with Mean for skewness\n",
      "(762,)\n"
     ]
    },
    {
     "data": {
      "image/png": "[encoded data removed]",
      "text/plain": [
       "<Figure size 432x288 with 1 Axes>"
      ]
     },
     "metadata": {
      "needs_background": "light"
     },
     "output_type": "display_data"
    },
    {
     "name": "stdout",
     "output_type": "stream",
     "text": [
      "Replace NULL value with Median for skewness\n",
      "(762,)\n"
     ]
    },
    {
     "data": {
      "image/png": "[encoded data removed]",
      "text/plain": [
       "<Figure size 432x288 with 1 Axes>"
      ]
     },
     "metadata": {
      "needs_background": "light"
     },
     "output_type": "display_data"
    },
    {
     "name": "stdout",
     "output_type": "stream",
     "text": [
      "Drop NULL value for curtosis\n",
      "(580,)\n"
     ]
    },
    {
     "data": {
      "image/png": "[encoded data removed]",
      "text/plain": [
       "<Figure size 432x288 with 1 Axes>"
      ]
     },
     "metadata": {
      "needs_background": "light"
     },
     "output_type": "display_data"
    },
    {
     "name": "stdout",
     "output_type": "stream",
     "text": [
      "Replace NULL value with Mean for curtosis\n",
      "(762,)\n"
     ]
    },
    {
     "data": {
      "image/png": "[encoded data removed]",
      "text/plain": [
       "<Figure size 432x288 with 1 Axes>"
      ]
     },
     "metadata": {
      "needs_background": "light"
     },
     "output_type": "display_data"
    },
    {
     "name": "stdout",
     "output_type": "stream",
     "text": [
      "Replace NULL value with Median for curtosis\n",
      "(762,)\n"
     ]
    },
    {
     "data": {
      "image/png": "[encoded data removed]",
      "text/plain": [
       "<Figure size 432x288 with 1 Axes>"
      ]
     },
     "metadata": {
      "needs_background": "light"
     },
     "output_type": "display_data"
    },
    {
     "name": "stdout",
     "output_type": "stream",
     "text": [
      "Drop NULL value for entropy\n",
      "(564,)\n"
     ]
    },
    {
     "data": {
      "image/png": "[encoded data removed]",
      "text/plain": [
       "<Figure size 432x288 with 1 Axes>"
      ]
     },
     "metadata": {
      "needs_background": "light"
     },
     "output_type": "display_data"
    },
    {
     "name": "stdout",
     "output_type": "stream",
     "text": [
      "Replace NULL value with Mean for entropy\n",
      "(762,)\n"
     ]
    },
    {
     "data": {
      "image/png": "[encoded data removed]",
      "text/plain": [
       "<Figure size 432x288 with 1 Axes>"
      ]
     },
     "metadata": {
      "needs_background": "light"
     },
     "output_type": "display_data"
    },
    {
     "name": "stdout",
     "output_type": "stream",
     "text": [
      "Replace NULL value with Median for entropy\n",
      "(762,)\n"
     ]
    },
    {
     "data": {
      "image/png": "[encoded data removed]",
      "text/plain": [
       "<Figure size 432x288 with 1 Axes>"
      ]
     },
     "metadata": {
      "needs_background": "light"
     },
     "output_type": "display_data"
    }
   ],
   "source": [
    "class plot:\n",
    "    def plot_distribution(self,df,feature=\"variance\"):\n",
    "        plt.subplot(3,1,1)\n",
    "        print(\"Drop NULL value for\",feature)\n",
    "        df_drop = df.copy()\n",
    "        df_drop =df_drop.drop(axis=\"rows\",labels = df_drop.index[df[feature].isna()])\n",
    "        df1 = df_drop[df_drop[\"target\"]==0][feature].copy()\n",
    "        df1.drop(axis=\"rows\",labels=df1.index[df1.duplicated()],inplace=True)\n",
    "        df2 = df_drop[df_drop[\"target\"]==1][feature].copy()\n",
    "        df2.drop(axis=\"rows\",labels=df2.index[df2.duplicated()],inplace=True)\n",
    "        print(df1.shape)\n",
    "        self._helper_function(df1,df2,feature)\n",
    "\n",
    "        plt.subplot(3,1,2)\n",
    "        print(\"Replace NULL value with Mean for\",feature)\n",
    "        df_mean = df.copy()\n",
    "        df1 = df_mean[df_mean[\"target\"]==0].fillna(df_mean[df_mean[\"target\"]==0].mean())[feature].copy()\n",
    "        df2 = df_mean[df_mean[\"target\"]==1].fillna(df_mean[df_mean[\"target\"]==1].mean())[feature].copy()\n",
    "        print(df1.shape)\n",
    "        self._helper_function(df1,df2,feature)\n",
    "\n",
    "        plt.subplot(3,1,2)\n",
    "        print(\"Replace NULL value with Median for\",feature)\n",
    "        df_median = df.copy()\n",
    "        df1 = df_median[df_median[\"target\"]==0].fillna(df_median[df_median[\"target\"]==0].median())[feature].copy()\n",
    "        df2 = df_median[df_median[\"target\"]==1].fillna(df_median[df_median[\"target\"]==1].median())[feature].copy()\n",
    "        print(df1.shape)\n",
    "        self._helper_function(df1,df2,feature)\n",
    "\n",
    "        \n",
    "    def _helper_function(self,df1,df2,feature):\n",
    "        plt.hist((df1,df2) ,bins=25, alpha=0.5,label = (\"class 0\",\"class 1\"))\n",
    "        plt.legend(loc='upper right')\n",
    "        plt.title(feature)\n",
    "        plt.show()\n",
    "\n",
    "p = plot()\n",
    "p.plot_distribution(main_df.iloc[:,[0,4]],\"variance\")\n",
    "p.plot_distribution(main_df.iloc[:,[1,4]],\"skewness\")\n",
    "p.plot_distribution(main_df.iloc[:,[2,4]],\"curtosis\")\n",
    "p.plot_distribution(main_df.iloc[:,[3,4]],\"entropy\")\n",
    "    "
   ]
  },
  {
   "cell_type": "markdown",
   "id": "potential-printing",
   "metadata": {},
   "source": [
    "# 3 NaiveBayes Classifier"
   ]
  },
  {
   "cell_type": "markdown",
   "id": "demographic-pharmaceutical",
   "metadata": {},
   "source": [
    "### 3.1 Classification code"
   ]
  },
  {
   "cell_type": "code",
   "execution_count": 43,
   "id": "sophisticated-circulation",
   "metadata": {},
   "outputs": [],
   "source": [
    "class NaiveBayesClassifier:\n",
    "    def fit(self,x,y):\n",
    "        samples,features = x.shape\n",
    "        self._classes = np.unique(y)\n",
    "        classes = len(self._classes)\n",
    "        \n",
    "        self._mean = np.zeros((classes,features),dtype=np.float64)\n",
    "        self._var = np.zeros((classes,features),dtype=np.float64)\n",
    "        self._priors = np.zeros(classes,dtype=np.float64)\n",
    "        \n",
    "        for c in self._classes:\n",
    "            X_c = x[c==y];\n",
    "            self._mean[c,:] = X_c.mean(axis = 0)\n",
    "            self._var[c,:] = X_c.var(axis = 0)\n",
    "            self._priors[c] = X_c.shape[0]/float(samples)\n",
    "        \n",
    "    def predict(self,X):\n",
    "        y_pred = [self._predict(x) for x in X]\n",
    "        return y_pred\n",
    "    \n",
    "    def _predict(self,x):\n",
    "        posteriors = []\n",
    "        for idx,c in enumerate(self._classes):\n",
    "            prior = self._priors[idx]\n",
    "            class_conditional = np.sum(self._pdf(idx,x))\n",
    "            posterior = prior * class_conditional\n",
    "            posteriors.append(posterior)\n",
    "            \n",
    "        return self._classes[np.argmax(posteriors)]\n",
    "    \n",
    "    def _pdf(self,class_idx,x):\n",
    "        mean = self._mean[class_idx]\n",
    "        var = self._var[class_idx]\n",
    "        numerator = np.exp(-(x-mean)**2/(2*var))\n",
    "        denometor = np.sqrt(2*(np.pi)*var)\n",
    "        return numerator/denometor\n",
    "    \n",
    "    def accuracy(self,y_test,y_pred):\n",
    "        acc = np.sum(y_test==y_pred)/len(y_test)\n",
    "        return acc"
   ]
  },
  {
   "cell_type": "markdown",
   "id": "manufactured-analysis",
   "metadata": {},
   "source": [
    "### 3.2 code for calling classification class function"
   ]
  },
  {
   "cell_type": "code",
   "execution_count": 44,
   "id": "electric-copying",
   "metadata": {},
   "outputs": [],
   "source": [
    "def Univariat_Gaussian_NB(df):\n",
    "    nb = NaiveBayesClassifier()\n",
    "    \n",
    "    df_drop = df.copy()\n",
    "    df_drop = df_drop.drop(axis = \"rows\",labels = df_drop.index[df_drop.iloc[:,0].isna()])\n",
    "    df_drop.drop(axis=\"rows\",labels=df_drop.index[df_drop.duplicated()],inplace=True)\n",
    "    print(\"    accuracy by droping null value : \",_computation(nb,df_drop))\n",
    "    \n",
    "    df_mean = df.copy()\n",
    "    df_mean = pd.concat([df_mean[df_mean[\"target\"]==0].fillna(df_mean[df_mean[\"target\"]==0].mean()),df_mean[df_mean[\"target\"]==1].fillna(df_mean[df_mean[\"target\"]==1].mean())])\n",
    "    print(\"    accuracy by replacing null value with mean : \",_computation(nb,df_mean))\n",
    "    \n",
    "    df_median = df.copy()\n",
    "    df_median = pd.concat([df_median[df_median[\"target\"]==0].fillna(df_median[df_median[\"target\"]==0].median()),df_median[df_median[\"target\"]==1].fillna(df_median[df_median[\"target\"]==1].median())])\n",
    "    print(\"    accuracy by replacing null value with median: \",_computation(nb,df_median))\n",
    "    \n",
    "def _computation(nb,df):\n",
    "    X = np.array(df.iloc[:,0])\n",
    "    X = X.reshape(-1,1)\n",
    "    y = np.array(df.iloc[:,1])\n",
    "    X_train,X_test,y_train,y_test = train_test_split(X,y,test_size=0.4,random_state=116)\n",
    "    nb.fit(X_train,y_train)\n",
    "    y_pred = nb.predict(X_test)\n",
    "    return nb.accuracy(y_test,y_pred)\n"
   ]
  },
  {
   "cell_type": "markdown",
   "id": "loving-powell",
   "metadata": {},
   "source": [
    "### 3.3 Call Classfiction class function feature wise"
   ]
  },
  {
   "cell_type": "code",
   "execution_count": 45,
   "id": "enabling-caribbean",
   "metadata": {},
   "outputs": [
    {
     "name": "stdout",
     "output_type": "stream",
     "text": [
      "Feature : 'variance'\n",
      "    accuracy by droping null value :  0.8527472527472527\n",
      "    accuracy by replacing null value with mean :  0.8870673952641166\n",
      "    accuracy by replacing null value with median:  0.8870673952641166\n",
      "Feature : 'skewness'\n",
      "    accuracy by droping null value :  0.6118721461187214\n",
      "    accuracy by replacing null value with mean :  0.6775956284153005\n",
      "    accuracy by replacing null value with median:  0.6721311475409836\n",
      "Feature : 'curtosis'\n",
      "    accuracy by droping null value :  0.6226851851851852\n",
      "    accuracy by replacing null value with mean :  0.599271402550091\n",
      "    accuracy by replacing null value with median:  0.6138433515482696\n",
      "Feature : 'entropy'\n",
      "    accuracy by droping null value :  0.5117370892018779\n",
      "    accuracy by replacing null value with mean :  0.5446265938069217\n",
      "    accuracy by replacing null value with median:  0.5446265938069217\n"
     ]
    }
   ],
   "source": [
    "print(\"Feature : 'variance'\")\n",
    "Univariat_Gaussian_NB(main_df.iloc[:,[0,4]])\n",
    "print(\"Feature : 'skewness'\")\n",
    "Univariat_Gaussian_NB(main_df.iloc[:,[1,4]])\n",
    "print(\"Feature : 'curtosis'\")\n",
    "Univariat_Gaussian_NB(main_df.iloc[:,[2,4]])\n",
    "print(\"Feature : 'entropy'\")\n",
    "Univariat_Gaussian_NB(main_df.iloc[:,[3,4]])"
   ]
  },
  {
   "cell_type": "markdown",
   "id": "fantastic-eating",
   "metadata": {},
   "source": [
    "# 4 Logistic Regression"
   ]
  },
  {
   "cell_type": "markdown",
   "id": "atomic-diploma",
   "metadata": {},
   "source": [
    "### 4.1 Logistic Regression code"
   ]
  },
  {
   "cell_type": "code",
   "execution_count": 46,
   "id": "going-border",
   "metadata": {},
   "outputs": [],
   "source": [
    "class LogisticRegression:\n",
    "    \n",
    "    def fit(self,X,y,iteration,learning_rate,opt = \"gradient\"):\n",
    "        X = self._normalization(X)\n",
    "        ones = np.ones(len(X)).reshape(-1, 1)\n",
    "        X = np.concatenate((ones, X), axis = 1)\n",
    "        self._samples,self._feature = X.shape\n",
    "        self._itr = iteration\n",
    "        self._lr = learning_rate\n",
    "        if(opt == \"gradient\"):\n",
    "            self._param = self._gradient(X,y)\n",
    "        elif (opt == \"newton\"):\n",
    "            self._param = self._newton(X,y)\n",
    "        \n",
    "\n",
    "    def _gradient(self,X,y):\n",
    "        param = np.random.randn(self._feature)\n",
    "        for i in range(self._itr):\n",
    "            prob = self._sigmoid(X @ param)\n",
    "            gdt = -(X.T @ (y-prob))/(len(y))\n",
    "            param -= self._lr*gdt\n",
    "        return param\n",
    "    \n",
    "    def _newton(self,X,y):\n",
    "        param = np.random.randn(self._feature)\n",
    "        prob = self._sigmoid(X @ param)\n",
    "        B = np.zeros((self._samples,self._samples))\n",
    "        for i in range(self._itr):\n",
    "            prob = self._sigmoid(X @ param)\n",
    "            gdt = -(X.T @ (y-prob))/(len(y))\n",
    "            np.fill_diagonal(B,prob*(1-prob))\n",
    "            H = X.T @ B @ X\n",
    "            param -= np.linalg.inv(H) @ gdt\n",
    "        return param\n",
    "        \n",
    "    def _normalization(self,X):\n",
    "        return ((X - X.min())/(X.max() - X.min()))\n",
    "    \n",
    "    def _sigmoid(self,z):        \n",
    "        return (1+np.exp(-z))**(-1)\n",
    "    \n",
    "    def predict(self,X):\n",
    "        X = self._normalization(X)\n",
    "        ones = np.ones(len(X)).reshape(-1, 1)\n",
    "        X = np.concatenate((ones, X), axis = 1)\n",
    "        y_pred = [self._predict(x) for x in X]\n",
    "        return y_pred\n",
    "    \n",
    "    def _predict(self,x):\n",
    "        p = self._sigmoid(x @ self._param)\n",
    "        return p.round()\n",
    "    \n",
    "    def accuracy(self,y_test,y_pred):\n",
    "        acc = np.sum(y_test==y_pred)/len(y_test)\n",
    "        return acc\n"
   ]
  },
  {
   "cell_type": "markdown",
   "id": "transsexual-shoot",
   "metadata": {},
   "source": [
    "### 4.2 code for calling LR class function"
   ]
  },
  {
   "cell_type": "code",
   "execution_count": 47,
   "id": "caroline-retirement",
   "metadata": {},
   "outputs": [],
   "source": [
    "def Logistic_Regression(df,opt = \"gradient\"):\n",
    "    lr = LogisticRegression()\n",
    "    \n",
    "        \n",
    "    df_drop = df.copy()\n",
    "    df_drop.drop(axis = \"rows\",labels = df_drop.index[df_drop[\"variance\"].isna()],inplace = True)\n",
    "    df_drop.drop(axis = \"rows\",labels = df_drop.index[df_drop[\"skewness\"].isna()],inplace = True)\n",
    "    df_drop.drop(axis = \"rows\",labels = df_drop.index[df_drop[\"curtosis\"].isna()],inplace = True)\n",
    "    df_drop.drop(axis = \"rows\",labels = df_drop.index[df_drop[\"entropy\"].isna()],inplace = True)\n",
    "    df_drop.drop(axis=\"rows\",labels=df_drop.index[df_drop.duplicated()],inplace=True)\n",
    "    print(\"accuracy by droping null value row : \",_computationLR(lr,df_drop,opt))\n",
    "    \n",
    "    \n",
    "    df_mean = df.copy()\n",
    "    df_mean = pd.concat([df_mean[df_mean[\"target\"]==0].fillna(df_mean[df_mean[\"target\"]==0].mean()),df_mean[df_mean[\"target\"]==1].fillna(df_mean[df_mean[\"target\"]==1].mean())])\n",
    "    df_mean.drop(axis=\"rows\",labels=df_mean.index[df_mean.duplicated()],inplace=True)\n",
    "    print(\"accuracy by replacing null value with mean value : \",_computationLR(lr,df_mean,opt))\n",
    "    \n",
    "    df_median = df.copy()\n",
    "    df_median = pd.concat([df_median[df_median[\"target\"]==0].fillna(df_median[df_median[\"target\"]==0].median()),df_median[df_median[\"target\"]==1].fillna(df_median[df_median[\"target\"]==1].median())])\n",
    "    df_median.drop(axis=\"rows\",labels=df_median.index[df_median.duplicated()],inplace=True)\n",
    "    print(\"accuracy by replacing null value with median value : \",_computationLR(lr,df_median,opt))\n",
    "    \n",
    "    \n",
    "def _computationLR(lr,df,opt):\n",
    "    X = np.array(df.iloc[:,:4])\n",
    "    y = np.array(df.iloc[:,4])\n",
    "    X_train,X_test,y_train,y_test = train_test_split(X,y,test_size=0.4,random_state=116)\n",
    "    lr.fit(X_train,y_train,10000,0.1,opt)\n",
    "    y_pred = lr.predict(X_test)\n",
    "    return lr.accuracy(y_test,y_pred)\n",
    "    "
   ]
  },
  {
   "cell_type": "markdown",
   "id": "third-engagement",
   "metadata": {},
   "source": [
    "### 4.3 call LR class function for Gradient Descent anf Newton's method"
   ]
  },
  {
   "cell_type": "code",
   "execution_count": 48,
   "id": "operating-haiti",
   "metadata": {},
   "outputs": [
    {
     "name": "stdout",
     "output_type": "stream",
     "text": [
      "accuracy by droping null value row :  0.9242424242424242\n",
      "accuracy by replacing null value with mean value :  0.9010989010989011\n",
      "accuracy by replacing null value with median value :  0.9120879120879121\n",
      "accuracy by droping null value row :  0.9886363636363636\n",
      "accuracy by replacing null value with mean value :  0.9560439560439561\n",
      "accuracy by replacing null value with median value :  0.9652014652014652\n"
     ]
    }
   ],
   "source": [
    "Logistic_Regression(main_df,\"gradient\")\n",
    "Logistic_Regression(main_df,\"newton\")"
   ]
  },
  {
   "cell_type": "code",
   "execution_count": null,
   "id": "joined-assembly",
   "metadata": {},
   "outputs": [],
   "source": []
  },
  {
   "cell_type": "code",
   "execution_count": null,
   "id": "handled-senate",
   "metadata": {},
   "outputs": [],
   "source": []
  }
 ],
 "metadata": {
  "kernelspec": {
   "display_name": "Python 3",
   "language": "python",
   "name": "python3"
  },
  "language_info": {
   "codemirror_mode": {
    "name": "ipython",
    "version": 3
   },
   "file_extension": ".py",
   "mimetype": "text/x-python",
   "name": "python",
   "nbconvert_exporter": "python",
   "pygments_lexer": "ipython3",
   "version": "3.7.9"
  }
 },
 "nbformat": 4,
 "nbformat_minor": 5
}
